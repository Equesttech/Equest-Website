{
 "cells": [
  {
   "cell_type": "code",
   "execution_count": 1,
   "metadata": {},
   "outputs": [
    {
     "name": "stdout",
     "output_type": "stream",
     "text": [
      "['Oranges', 'pepper', 'Rice', 'beans', 'Tomatoes']\n"
     ]
    }
   ],
   "source": [
    "market_list = ['Oranges', 'pepper', 'Rice', 'beans']\n",
    "market_list.append('Tomatoes')\n",
    "print(market_list)"
   ]
  },
  {
   "cell_type": "code",
   "execution_count": 2,
   "metadata": {},
   "outputs": [
    {
     "name": "stdout",
     "output_type": "stream",
     "text": [
      "['Onions', 'Oranges', 'pepper', 'Rice', 'beans', 'Tomatoes']\n"
     ]
    }
   ],
   "source": [
    "market_list.insert(0, 'Onions')\n",
    "print(market_list)"
   ]
  },
  {
   "cell_type": "code",
   "execution_count": 3,
   "metadata": {},
   "outputs": [
    {
     "name": "stdout",
     "output_type": "stream",
     "text": [
      "['Onions', 'Oranges', 'Rice', 'beans', 'Tomatoes']\n"
     ]
    }
   ],
   "source": [
    "market_list.remove('pepper')\n",
    "print(market_list)\n"
   ]
  },
  {
   "cell_type": "code",
   "execution_count": 4,
   "metadata": {},
   "outputs": [
    {
     "name": "stdout",
     "output_type": "stream",
     "text": [
      "Clark Kent\n"
     ]
    }
   ],
   "source": [
    "Superheroes = {'Super Man': 'Clark Kent', 'Bat Man': 'Bruise Wayne'}\n",
    "print(Superheroes['Super Man'])"
   ]
  },
  {
   "cell_type": "code",
   "execution_count": 6,
   "metadata": {},
   "outputs": [
    {
     "name": "stdout",
     "output_type": "stream",
     "text": [
      "{'Super Man': 'Clark Kent', 'Bat Man': 'Bruise Wayne', 'Flash': 'Barry Allen'}\n"
     ]
    }
   ],
   "source": [
    "Superheroes['Flash'] = 'Barry Allen'\n",
    "print(Superheroes)"
   ]
  },
  {
   "cell_type": "code",
   "execution_count": 31,
   "metadata": {},
   "outputs": [
    {
     "name": "stdout",
     "output_type": "stream",
     "text": [
      "What is Your nameVictor\n",
      "How Old Are You: 22\n",
      "You are not getting any Younger\n"
     ]
    }
   ],
   "source": [
    "Name = input('What is Your name')\n",
    "Age = int(input('How Old Are You: '))\n",
    "if Age >= 90:\n",
    "    print('You are old Oh')\n",
    "elif Age <= 50:\n",
    "        print('You are not getting any Younger')\n",
    "else: print('Grow Up')\n",
    "        "
   ]
  },
  {
   "cell_type": "code",
   "execution_count": null,
   "metadata": {},
   "outputs": [],
   "source": []
  },
  {
   "cell_type": "code",
   "execution_count": 20,
   "metadata": {},
   "outputs": [
    {
     "name": "stdout",
     "output_type": "stream",
     "text": [
      "How Old Are You: 22\n",
      "You are 22 Old\n"
     ]
    }
   ],
   "source": []
  }
 ],
 "metadata": {
  "kernelspec": {
   "display_name": "Python 3",
   "language": "python",
   "name": "python3"
  },
  "language_info": {
   "codemirror_mode": {
    "name": "ipython",
    "version": 3
   },
   "file_extension": ".py",
   "mimetype": "text/x-python",
   "name": "python",
   "nbconvert_exporter": "python",
   "pygments_lexer": "ipython3",
   "version": "3.8.1"
  }
 },
 "nbformat": 4,
 "nbformat_minor": 4
}
